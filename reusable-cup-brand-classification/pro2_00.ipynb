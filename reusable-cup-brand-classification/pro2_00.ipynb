{
 "cells": [
  {
   "cell_type": "code",
   "execution_count": null,
   "metadata": {},
   "outputs": [],
   "source": [
    "import cv2\n"
   ]
  },
  {
   "cell_type": "code",
   "execution_count": null,
   "metadata": {},
   "outputs": [],
   "source": [
    "camera=cv2.VideoCapture('../project9/DATA/video/desert39.mp4')\n",
    "count=0\n",
    "_,img=camera.read()\n",
    "idx=cv2.selectROI('a',img,None,None)\n",
    "print(idx)\n",
    "new=img[idx[1]:idx[1]+idx[3],idx[0]:idx[0]+idx[2]]\n",
    "while True:\n",
    "    ret,img=camera.read()\n",
    "    if ret:\n",
    "        new=img[idx[1]:idx[1]+idx[3],idx[0]:idx[0]+idx[2]]\n",
    "        cv2.imshow('a',new)\n",
    "        key=cv2.waitKey(1)\n",
    "        if key==27:\n",
    "            cv2.destroyAllWindows()\n",
    "            break\n",
    "        print(count)\n",
    "        if not count%5:\n",
    "            cv2.imwrite(f'./DATA/normal_cup/{count}.png',new)\n",
    "        count+=1\n",
    "    else: pass"
   ]
  },
  {
   "cell_type": "code",
   "execution_count": null,
   "metadata": {},
   "outputs": [],
   "source": [
    "import cv2  # OpenCV 라이브러리를 불러옵니다.\n",
    "\n",
    "# 비디오 파일을 불러옵니다.\n",
    "camera = cv2.VideoCapture('../project9/DATA/video/desert39.mp4')\n",
    "\n",
    "count = 0  # 저장할 이미지의 개수를 세는 변수입니다.\n",
    "\n",
    "# 첫 번째 프레임을 읽어옵니다.\n",
    "_, img = camera.read()\n",
    "\n",
    "# 사용자가 관심 영역(ROI, Region of Interest)을 선택하도록 합니다.\n",
    "idx = cv2.selectROI('a', img, False, False)  # 마우스로 영역을 선택할 수 있음.\n",
    "print(idx)  # 선택한 영역의 좌표 정보를 출력합니다.\n",
    "\n",
    "# 사용자가 선택한 영역을 잘라서 저장합니다.\n",
    "new = img[idx[1]:idx[1] + idx[3], idx[0]:idx[0] + idx[2]]\n",
    "\n",
    "# 무한 루프를 실행하여 동영상을 계속 처리합니다.\n",
    "while True:\n",
    "    ret, img = camera.read()  # 새로운 프레임을 읽어옵니다.\n",
    "    \n",
    "    if ret:  # 영상이 정상적으로 로드되었을 경우 실행\n",
    "        # 선택한 영역을 동일한 위치에서 잘라냅니다.\n",
    "        new = img[idx[1]:idx[1] + idx[3], idx[0]:idx[0] + idx[2]]\n",
    "        \n",
    "        # 선택한 영역을 화면에 보여줍니다.\n",
    "        cv2.imshow('a', new)\n",
    "        \n",
    "        # 키 입력을 기다립니다. (1ms 동안 대기)\n",
    "        key = cv2.waitKey(1)\n",
    "        \n",
    "        # ESC 키(27번)를 누르면 프로그램을 종료합니다.\n",
    "        if key == 27:\n",
    "            cv2.destroyAllWindows()\n",
    "            break\n",
    "        \n",
    "        print(count)  # 현재 프레임 카운트를 출력합니다.\n",
    "        \n",
    "        # 5 프레임마다 이미지를 저장합니다.\n",
    "        if not count % 5:\n",
    "            cv2.imwrite(f'./DATA/normal_cup/{count}.png', new)  # 선택한 영역을 이미지로 저장합니다.\n",
    "        \n",
    "        count += 1  # 프레임 카운트를 증가시킵니다.\n",
    "    else:\n",
    "        pass  # 영상 프레임을 불러오지 못했을 경우 아무 작업도 하지 않습니다.\n"
   ]
  }
 ],
 "metadata": {
  "kernelspec": {
   "display_name": "ML_CV",
   "language": "python",
   "name": "python3"
  },
  "language_info": {
   "codemirror_mode": {
    "name": "ipython",
    "version": 3
   },
   "file_extension": ".py",
   "mimetype": "text/x-python",
   "name": "python",
   "nbconvert_exporter": "python",
   "pygments_lexer": "ipython3",
   "version": "3.9.21"
  }
 },
 "nbformat": 4,
 "nbformat_minor": 2
}
